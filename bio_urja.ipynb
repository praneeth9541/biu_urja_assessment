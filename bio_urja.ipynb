import csv
from google.colab import drive
drive.mount('/content/drive')
# Load data
farms = {}
forecast_by_zone = {'East': 0, 'North': 0, 'West': 0, 'South': 0}

with open('/content/drive/My Drive/test_data.csv', 'r') as file:
    reader = csv.DictReader(file)
    for row in reader:
        plant_name = row['\ufeffPlant_Name']
        cap= float(row['Capacity'])
        forecast = float(row['Forecast'])
        zone = ''
      # Dividing the plants according to region
        if 'E' in plant_name:
            zone = 'East'
        elif 'N' in plant_name:
            zone = 'North'
        elif 'W' in plant_name:
            zone = 'West'
        else:
            zone = 'South'
        farms[plant_name] = {'capacity': cap, 'forecast': forecast, 'zone': zone}
        forecast_by_zone[zone] += forecast

# Adjusting forecast by capacity ratio and regional level total forecast
for plant_name, data in farms.items():
    zone = data['zone']
    zonal_forecast = {'East': 2800, 'North': 1500, 'West': 2000, 'South': 6500}[zone]
    ratio = data['forecast'] / data['capacity']
    data['adjusted_forecast'] = ratio * (zonal_forecast / forecast_by_zone[zone]) * data['capacity']
    if data['adjusted_forecast'] > data['capacity']:
        data['adjusted_forecast'] = data['capacity']

# Adjusting state level total forecast
forecast_state = 12000
adjusted_forecast = sum([data['adjusted_forecast'] for data in farms.values()])
scaling_factor = forecast_state / adjusted_forecast

for plant_name, data in farms.items():
    data['adjusted_forecast'] *= scaling_factor
    if data['adjusted_forecast'] > data['capacity']:
        data['adjusted_forecast'] = data['capacity']

# Displaying the result
print("Plant_Name,Modified Forecast")
for plant_name, data in farms.items():
    print(f"{plant_name},{data['adjusted_forecast']}")
