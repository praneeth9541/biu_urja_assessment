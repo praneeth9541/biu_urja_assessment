import csv
from google.colab import drive
drive.mount('/content/drive')
# Load data
wind_farms = {}
total_forecast_by_zone = {'East': 0, 'North': 0, 'West': 0, 'South': 0}

with open('/content/drive/My Drive/test_data.csv', 'r') as file:
    reader = csv.DictReader(file)
    for row in reader:
        plant_name = row['\ufeffPlant_Name']
        capacity = float(row['Capacity'])
        forecast = float(row['Forecast'])
        zone = ''
        if 'E' in plant_name:
            zone = 'East'
        elif 'N' in plant_name:
            zone = 'North'
        elif 'W' in plant_name:
            zone = 'West'
        else:
            zone = 'South'
        wind_farms[plant_name] = {'capacity': capacity, 'forecast': forecast, 'zone': zone}
        total_forecast_by_zone[zone] += forecast

# Adjust forecast by capacity ratio and zonal total forecast
for plant_name, data in wind_farms.items():
    zone = data['zone']
    zonal_forecast = {'East': 2800, 'North': 1500, 'West': 2000, 'South': 6500}[zone]
    ratio = data['forecast'] / data['capacity']
    data['adjusted_forecast'] = ratio * (zonal_forecast / total_forecast_by_zone[zone]) * data['capacity']
    if data['adjusted_forecast'] > data['capacity']:
        data['adjusted_forecast'] = data['capacity']

# Adjust for state total forecast
state_forecast = 12000
total_adjusted_forecast = sum([data['adjusted_forecast'] for data in wind_farms.values()])
scaling_factor = state_forecast / total_adjusted_forecast

for plant_name, data in wind_farms.items():
    data['adjusted_forecast'] *= scaling_factor
    if data['adjusted_forecast'] > data['capacity']:
        data['adjusted_forecast'] = data['capacity']

# Output the result
print("Name,Adjusted Forecast")
for plant_name, data in wind_farms.items():
    print(f"{plant_name},{data['adjusted_forecast']}")
